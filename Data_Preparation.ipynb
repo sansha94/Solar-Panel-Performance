{
 "cells": [
  {
   "cell_type": "markdown",
   "id": "0d54f28a-f063-4a16-9f84-43f8952bac66",
   "metadata": {},
   "source": [
    "## Importing the libraries"
   ]
  },
  {
   "cell_type": "code",
   "execution_count": 1,
   "id": "aab5d318-78d2-4e71-aba4-0f1a795559ed",
   "metadata": {
    "execution": {
     "iopub.execute_input": "2025-06-28T11:44:04.286789Z",
     "iopub.status.busy": "2025-06-28T11:44:04.285599Z",
     "iopub.status.idle": "2025-06-28T11:44:05.187998Z",
     "shell.execute_reply": "2025-06-28T11:44:05.187633Z",
     "shell.execute_reply.started": "2025-06-28T11:44:04.286765Z"
    }
   },
   "outputs": [],
   "source": [
    "import pandas as pd\n",
    "import numpy as np\n",
    "\n",
    "import matplotlib.pyplot as plt\n",
    "import seaborn as sns\n",
    "\n",
    "from modules import data_wrangle"
   ]
  },
  {
   "cell_type": "markdown",
   "id": "b022673e-eadc-480c-8739-e2d382063fd4",
   "metadata": {},
   "source": [
    "# 1. Reading the dataset"
   ]
  },
  {
   "cell_type": "code",
   "execution_count": 2,
   "id": "d173f868-6f53-4ac7-98f7-08d7364dac90",
   "metadata": {
    "execution": {
     "iopub.execute_input": "2025-06-28T11:44:05.188655Z",
     "iopub.status.busy": "2025-06-28T11:44:05.188503Z",
     "iopub.status.idle": "2025-06-28T11:44:05.241581Z",
     "shell.execute_reply": "2025-06-28T11:44:05.241258Z",
     "shell.execute_reply.started": "2025-06-28T11:44:05.188646Z"
    }
   },
   "outputs": [],
   "source": [
    "# Reading train and test dataset\n",
    "df_train = pd.read_csv(\"dataset/train.csv\")\n",
    "df_test = pd.read_csv(\"dataset/test.csv\")"
   ]
  },
  {
   "cell_type": "markdown",
   "id": "c162dbd4-5226-406d-9ec0-e22bfdd5c85f",
   "metadata": {},
   "source": [
    "# 2. Inspecting the dataset"
   ]
  },
  {
   "cell_type": "markdown",
   "id": "3b3609af-69cb-4964-93c5-d9608c1e89d8",
   "metadata": {},
   "source": [
    "## i. Viewing head"
   ]
  },
  {
   "cell_type": "code",
   "execution_count": 3,
   "id": "dfb2884b-a028-4427-a6e4-fa7468cec2c5",
   "metadata": {
    "execution": {
     "iopub.execute_input": "2025-06-28T11:44:05.242127Z",
     "iopub.status.busy": "2025-06-28T11:44:05.242030Z",
     "iopub.status.idle": "2025-06-28T11:44:05.250950Z",
     "shell.execute_reply": "2025-06-28T11:44:05.250520Z",
     "shell.execute_reply.started": "2025-06-28T11:44:05.242119Z"
    }
   },
   "outputs": [
    {
     "data": {
      "text/html": [
       "<div>\n",
       "<style scoped>\n",
       "    .dataframe tbody tr th:only-of-type {\n",
       "        vertical-align: middle;\n",
       "    }\n",
       "\n",
       "    .dataframe tbody tr th {\n",
       "        vertical-align: top;\n",
       "    }\n",
       "\n",
       "    .dataframe thead th {\n",
       "        text-align: right;\n",
       "    }\n",
       "</style>\n",
       "<table border=\"1\" class=\"dataframe\">\n",
       "  <thead>\n",
       "    <tr style=\"text-align: right;\">\n",
       "      <th></th>\n",
       "      <th>id</th>\n",
       "      <th>temperature</th>\n",
       "      <th>irradiance</th>\n",
       "      <th>humidity</th>\n",
       "      <th>panel_age</th>\n",
       "      <th>maintenance_count</th>\n",
       "      <th>soiling_ratio</th>\n",
       "      <th>voltage</th>\n",
       "      <th>current</th>\n",
       "      <th>module_temperature</th>\n",
       "      <th>cloud_coverage</th>\n",
       "      <th>wind_speed</th>\n",
       "      <th>pressure</th>\n",
       "      <th>string_id</th>\n",
       "      <th>error_code</th>\n",
       "      <th>installation_type</th>\n",
       "      <th>efficiency</th>\n",
       "    </tr>\n",
       "  </thead>\n",
       "  <tbody>\n",
       "    <tr>\n",
       "      <th>0</th>\n",
       "      <td>0</td>\n",
       "      <td>7.817315</td>\n",
       "      <td>576.179270</td>\n",
       "      <td>41.24308670850264</td>\n",
       "      <td>32.135501</td>\n",
       "      <td>4.0</td>\n",
       "      <td>0.803199</td>\n",
       "      <td>37.403527</td>\n",
       "      <td>1.963787</td>\n",
       "      <td>13.691147</td>\n",
       "      <td>62.494044</td>\n",
       "      <td>12.82491203459621</td>\n",
       "      <td>1018.8665053152533</td>\n",
       "      <td>A1</td>\n",
       "      <td>NaN</td>\n",
       "      <td>NaN</td>\n",
       "      <td>0.562096</td>\n",
       "    </tr>\n",
       "    <tr>\n",
       "      <th>1</th>\n",
       "      <td>1</td>\n",
       "      <td>24.785727</td>\n",
       "      <td>240.003973</td>\n",
       "      <td>1.3596482765960705</td>\n",
       "      <td>19.977460</td>\n",
       "      <td>8.0</td>\n",
       "      <td>0.479456</td>\n",
       "      <td>21.843315</td>\n",
       "      <td>0.241473</td>\n",
       "      <td>27.545096</td>\n",
       "      <td>43.851238</td>\n",
       "      <td>12.012043660984917</td>\n",
       "      <td>1025.6238537572883</td>\n",
       "      <td>D4</td>\n",
       "      <td>E00</td>\n",
       "      <td>dual-axis</td>\n",
       "      <td>0.396447</td>\n",
       "    </tr>\n",
       "    <tr>\n",
       "      <th>2</th>\n",
       "      <td>2</td>\n",
       "      <td>46.652695</td>\n",
       "      <td>687.612799</td>\n",
       "      <td>91.26536837560256</td>\n",
       "      <td>1.496401</td>\n",
       "      <td>4.0</td>\n",
       "      <td>0.822398</td>\n",
       "      <td>48.222882</td>\n",
       "      <td>4.191800</td>\n",
       "      <td>43.363708</td>\n",
       "      <td>NaN</td>\n",
       "      <td>1.814399755560454</td>\n",
       "      <td>1010.9226539809573</td>\n",
       "      <td>C3</td>\n",
       "      <td>E00</td>\n",
       "      <td>NaN</td>\n",
       "      <td>0.573776</td>\n",
       "    </tr>\n",
       "    <tr>\n",
       "      <th>3</th>\n",
       "      <td>3</td>\n",
       "      <td>53.339567</td>\n",
       "      <td>735.141179</td>\n",
       "      <td>96.19095521176159</td>\n",
       "      <td>18.491582</td>\n",
       "      <td>3.0</td>\n",
       "      <td>0.837529</td>\n",
       "      <td>46.295748</td>\n",
       "      <td>0.960567</td>\n",
       "      <td>57.720436</td>\n",
       "      <td>67.361473</td>\n",
       "      <td>8.736258932034128</td>\n",
       "      <td>1021.8466633134253</td>\n",
       "      <td>A1</td>\n",
       "      <td>NaN</td>\n",
       "      <td>dual-axis</td>\n",
       "      <td>0.629009</td>\n",
       "    </tr>\n",
       "    <tr>\n",
       "      <th>4</th>\n",
       "      <td>4</td>\n",
       "      <td>5.575374</td>\n",
       "      <td>12.241203</td>\n",
       "      <td>27.495073003585226</td>\n",
       "      <td>30.722697</td>\n",
       "      <td>6.0</td>\n",
       "      <td>0.551833</td>\n",
       "      <td>0.000000</td>\n",
       "      <td>0.898062</td>\n",
       "      <td>6.786263</td>\n",
       "      <td>3.632000</td>\n",
       "      <td>0.52268384077164</td>\n",
       "      <td>1008.5559577591927</td>\n",
       "      <td>B2</td>\n",
       "      <td>E00</td>\n",
       "      <td>fixed</td>\n",
       "      <td>0.341874</td>\n",
       "    </tr>\n",
       "  </tbody>\n",
       "</table>\n",
       "</div>"
      ],
      "text/plain": [
       "   id  temperature  irradiance            humidity  panel_age  \\\n",
       "0   0     7.817315  576.179270   41.24308670850264  32.135501   \n",
       "1   1    24.785727  240.003973  1.3596482765960705  19.977460   \n",
       "2   2    46.652695  687.612799   91.26536837560256   1.496401   \n",
       "3   3    53.339567  735.141179   96.19095521176159  18.491582   \n",
       "4   4     5.575374   12.241203  27.495073003585226  30.722697   \n",
       "\n",
       "   maintenance_count  soiling_ratio    voltage   current  module_temperature  \\\n",
       "0                4.0       0.803199  37.403527  1.963787           13.691147   \n",
       "1                8.0       0.479456  21.843315  0.241473           27.545096   \n",
       "2                4.0       0.822398  48.222882  4.191800           43.363708   \n",
       "3                3.0       0.837529  46.295748  0.960567           57.720436   \n",
       "4                6.0       0.551833   0.000000  0.898062            6.786263   \n",
       "\n",
       "   cloud_coverage          wind_speed            pressure string_id  \\\n",
       "0       62.494044   12.82491203459621  1018.8665053152533        A1   \n",
       "1       43.851238  12.012043660984917  1025.6238537572883        D4   \n",
       "2             NaN   1.814399755560454  1010.9226539809573        C3   \n",
       "3       67.361473   8.736258932034128  1021.8466633134253        A1   \n",
       "4        3.632000    0.52268384077164  1008.5559577591927        B2   \n",
       "\n",
       "  error_code installation_type  efficiency  \n",
       "0        NaN               NaN    0.562096  \n",
       "1        E00         dual-axis    0.396447  \n",
       "2        E00               NaN    0.573776  \n",
       "3        NaN         dual-axis    0.629009  \n",
       "4        E00             fixed    0.341874  "
      ]
     },
     "metadata": {},
     "output_type": "display_data"
    }
   ],
   "source": [
    "display(df_train.head())"
   ]
  },
  {
   "cell_type": "code",
   "execution_count": 4,
   "id": "cf1b931b-d06e-4770-81b3-a0e4398bdb76",
   "metadata": {
    "execution": {
     "iopub.execute_input": "2025-06-28T11:44:05.251820Z",
     "iopub.status.busy": "2025-06-28T11:44:05.251723Z",
     "iopub.status.idle": "2025-06-28T11:44:05.258254Z",
     "shell.execute_reply": "2025-06-28T11:44:05.257842Z",
     "shell.execute_reply.started": "2025-06-28T11:44:05.251811Z"
    }
   },
   "outputs": [
    {
     "data": {
      "text/html": [
       "<div>\n",
       "<style scoped>\n",
       "    .dataframe tbody tr th:only-of-type {\n",
       "        vertical-align: middle;\n",
       "    }\n",
       "\n",
       "    .dataframe tbody tr th {\n",
       "        vertical-align: top;\n",
       "    }\n",
       "\n",
       "    .dataframe thead th {\n",
       "        text-align: right;\n",
       "    }\n",
       "</style>\n",
       "<table border=\"1\" class=\"dataframe\">\n",
       "  <thead>\n",
       "    <tr style=\"text-align: right;\">\n",
       "      <th></th>\n",
       "      <th>id</th>\n",
       "      <th>temperature</th>\n",
       "      <th>irradiance</th>\n",
       "      <th>humidity</th>\n",
       "      <th>panel_age</th>\n",
       "      <th>maintenance_count</th>\n",
       "      <th>soiling_ratio</th>\n",
       "      <th>voltage</th>\n",
       "      <th>current</th>\n",
       "      <th>module_temperature</th>\n",
       "      <th>cloud_coverage</th>\n",
       "      <th>wind_speed</th>\n",
       "      <th>pressure</th>\n",
       "      <th>string_id</th>\n",
       "      <th>error_code</th>\n",
       "      <th>installation_type</th>\n",
       "    </tr>\n",
       "  </thead>\n",
       "  <tbody>\n",
       "    <tr>\n",
       "      <th>0</th>\n",
       "      <td>0</td>\n",
       "      <td>17.618379</td>\n",
       "      <td>85.449838</td>\n",
       "      <td>90.81542277591531</td>\n",
       "      <td>13.910963</td>\n",
       "      <td>6.0</td>\n",
       "      <td>0.889765</td>\n",
       "      <td>6.370396</td>\n",
       "      <td>0.069101</td>\n",
       "      <td>19.517274</td>\n",
       "      <td>33.509889</td>\n",
       "      <td>7.1819582155525445</td>\n",
       "      <td>1034.782455188643</td>\n",
       "      <td>C3</td>\n",
       "      <td>E01</td>\n",
       "      <td>tracking</td>\n",
       "    </tr>\n",
       "    <tr>\n",
       "      <th>1</th>\n",
       "      <td>1</td>\n",
       "      <td>34.826323</td>\n",
       "      <td>722.801748</td>\n",
       "      <td>20.98299301574633</td>\n",
       "      <td>20.916528</td>\n",
       "      <td>4.0</td>\n",
       "      <td>0.590372</td>\n",
       "      <td>30.095867</td>\n",
       "      <td>1.713852</td>\n",
       "      <td>37.421443</td>\n",
       "      <td>32.327060</td>\n",
       "      <td>4.184581989921003</td>\n",
       "      <td>992.3197520437311</td>\n",
       "      <td>D4</td>\n",
       "      <td>E00</td>\n",
       "      <td>NaN</td>\n",
       "    </tr>\n",
       "    <tr>\n",
       "      <th>2</th>\n",
       "      <td>2</td>\n",
       "      <td>33.776934</td>\n",
       "      <td>485.491998</td>\n",
       "      <td>55.61404977577451</td>\n",
       "      <td>1.446962</td>\n",
       "      <td>3.0</td>\n",
       "      <td>0.611425</td>\n",
       "      <td>28.424430</td>\n",
       "      <td>1.696936</td>\n",
       "      <td>32.147763</td>\n",
       "      <td>69.613333</td>\n",
       "      <td>6.25944104775485</td>\n",
       "      <td>999.2134568588949</td>\n",
       "      <td>D4</td>\n",
       "      <td>E01</td>\n",
       "      <td>dual-axis</td>\n",
       "    </tr>\n",
       "    <tr>\n",
       "      <th>3</th>\n",
       "      <td>3</td>\n",
       "      <td>18.584189</td>\n",
       "      <td>350.022720</td>\n",
       "      <td>49.04476645510075</td>\n",
       "      <td>18.810133</td>\n",
       "      <td>5.0</td>\n",
       "      <td>NaN</td>\n",
       "      <td>7.848038</td>\n",
       "      <td>0.787188</td>\n",
       "      <td>25.734118</td>\n",
       "      <td>42.862760</td>\n",
       "      <td>2.7696074663593944</td>\n",
       "      <td>1026.6500782154521</td>\n",
       "      <td>C3</td>\n",
       "      <td>E02</td>\n",
       "      <td>dual-axis</td>\n",
       "    </tr>\n",
       "    <tr>\n",
       "      <th>4</th>\n",
       "      <td>4</td>\n",
       "      <td>43.044908</td>\n",
       "      <td>437.295622</td>\n",
       "      <td>8.761571340027164</td>\n",
       "      <td>NaN</td>\n",
       "      <td>8.0</td>\n",
       "      <td>0.564938</td>\n",
       "      <td>12.300717</td>\n",
       "      <td>1.867620</td>\n",
       "      <td>NaN</td>\n",
       "      <td>51.025763</td>\n",
       "      <td>11.846974043208318</td>\n",
       "      <td>1010.809942771749</td>\n",
       "      <td>B2</td>\n",
       "      <td>NaN</td>\n",
       "      <td>fixed</td>\n",
       "    </tr>\n",
       "  </tbody>\n",
       "</table>\n",
       "</div>"
      ],
      "text/plain": [
       "   id  temperature  irradiance           humidity  panel_age  \\\n",
       "0   0    17.618379   85.449838  90.81542277591531  13.910963   \n",
       "1   1    34.826323  722.801748  20.98299301574633  20.916528   \n",
       "2   2    33.776934  485.491998  55.61404977577451   1.446962   \n",
       "3   3    18.584189  350.022720  49.04476645510075  18.810133   \n",
       "4   4    43.044908  437.295622  8.761571340027164        NaN   \n",
       "\n",
       "   maintenance_count  soiling_ratio    voltage   current  module_temperature  \\\n",
       "0                6.0       0.889765   6.370396  0.069101           19.517274   \n",
       "1                4.0       0.590372  30.095867  1.713852           37.421443   \n",
       "2                3.0       0.611425  28.424430  1.696936           32.147763   \n",
       "3                5.0            NaN   7.848038  0.787188           25.734118   \n",
       "4                8.0       0.564938  12.300717  1.867620                 NaN   \n",
       "\n",
       "   cloud_coverage          wind_speed            pressure string_id  \\\n",
       "0       33.509889  7.1819582155525445   1034.782455188643        C3   \n",
       "1       32.327060   4.184581989921003   992.3197520437311        D4   \n",
       "2       69.613333    6.25944104775485   999.2134568588949        D4   \n",
       "3       42.862760  2.7696074663593944  1026.6500782154521        C3   \n",
       "4       51.025763  11.846974043208318   1010.809942771749        B2   \n",
       "\n",
       "  error_code installation_type  \n",
       "0        E01          tracking  \n",
       "1        E00               NaN  \n",
       "2        E01         dual-axis  \n",
       "3        E02         dual-axis  \n",
       "4        NaN             fixed  "
      ]
     },
     "metadata": {},
     "output_type": "display_data"
    }
   ],
   "source": [
    "display(df_test.head())"
   ]
  },
  {
   "cell_type": "markdown",
   "id": "dfc2f8f0-b8e9-4a4e-b566-74b33cdd0a5c",
   "metadata": {},
   "source": [
    "**Observation:**\n",
    "\n",
    "* There are nulls visible in the dataset\n",
    "* The target column here is `efficiency` and it is a continuous variable"
   ]
  },
  {
   "cell_type": "markdown",
   "id": "74fa905b-f8ef-4f69-8076-29a20eefa734",
   "metadata": {},
   "source": [
    "## ii. Dataset shape"
   ]
  },
  {
   "cell_type": "code",
   "execution_count": 5,
   "id": "45ad13a7-1ac0-4eea-b51c-977949edf7d3",
   "metadata": {
    "execution": {
     "iopub.execute_input": "2025-06-28T11:44:05.259449Z",
     "iopub.status.busy": "2025-06-28T11:44:05.259293Z",
     "iopub.status.idle": "2025-06-28T11:44:05.262150Z",
     "shell.execute_reply": "2025-06-28T11:44:05.261791Z",
     "shell.execute_reply.started": "2025-06-28T11:44:05.259440Z"
    }
   },
   "outputs": [
    {
     "name": "stdout",
     "output_type": "stream",
     "text": [
      "There are 20,000 rows & 17 columns in the train data\n",
      "There are 12,000 rows & 16 columns in the test data\n"
     ]
    }
   ],
   "source": [
    "print(f\"There are {df_train.shape[0]:,} rows & {df_train.shape[1]} columns in the train data\")\n",
    "print(f\"There are {df_test.shape[0]:,} rows & {df_test.shape[1]} columns in the test data\")"
   ]
  },
  {
   "cell_type": "markdown",
   "id": "013ba0cd-0668-4479-b62a-554e5f39cb72",
   "metadata": {},
   "source": [
    "## iii. Null value count"
   ]
  },
  {
   "cell_type": "code",
   "execution_count": 6,
   "id": "768cbfcd-f657-491a-8dbe-e4ee4d6cfa73",
   "metadata": {
    "execution": {
     "iopub.execute_input": "2025-06-28T11:44:05.264360Z",
     "iopub.status.busy": "2025-06-28T11:44:05.264228Z",
     "iopub.status.idle": "2025-06-28T11:44:05.270696Z",
     "shell.execute_reply": "2025-06-28T11:44:05.270397Z",
     "shell.execute_reply.started": "2025-06-28T11:44:05.264347Z"
    }
   },
   "outputs": [
    {
     "data": {
      "text/plain": [
       "id                       0\n",
       "temperature           1001\n",
       "irradiance             987\n",
       "humidity                 0\n",
       "panel_age             1011\n",
       "maintenance_count     1027\n",
       "soiling_ratio         1010\n",
       "voltage                993\n",
       "current                977\n",
       "module_temperature     978\n",
       "cloud_coverage        1010\n",
       "wind_speed               0\n",
       "pressure                 0\n",
       "string_id                0\n",
       "error_code            5912\n",
       "installation_type     5028\n",
       "efficiency               0\n",
       "dtype: int64"
      ]
     },
     "execution_count": 6,
     "metadata": {},
     "output_type": "execute_result"
    }
   ],
   "source": [
    "df_train.isna().sum()"
   ]
  },
  {
   "cell_type": "markdown",
   "id": "7f0be7ea-de1a-4c5a-9d9b-2ece50b8224b",
   "metadata": {},
   "source": [
    "**Observation:** We can observe there are nulls in 11 columns"
   ]
  },
  {
   "cell_type": "markdown",
   "id": "0e5ad466-a6af-4186-9f90-26e460e88cf1",
   "metadata": {},
   "source": [
    "## iv. Inspecting data types"
   ]
  },
  {
   "cell_type": "code",
   "execution_count": 7,
   "id": "a9f099fd-6b9e-4802-b9a7-358e26e30f73",
   "metadata": {
    "execution": {
     "iopub.execute_input": "2025-06-28T11:44:05.271265Z",
     "iopub.status.busy": "2025-06-28T11:44:05.271182Z",
     "iopub.status.idle": "2025-06-28T11:44:05.274674Z",
     "shell.execute_reply": "2025-06-28T11:44:05.274167Z",
     "shell.execute_reply.started": "2025-06-28T11:44:05.271256Z"
    }
   },
   "outputs": [
    {
     "data": {
      "text/plain": [
       "id                      int64\n",
       "temperature           float64\n",
       "irradiance            float64\n",
       "humidity               object\n",
       "panel_age             float64\n",
       "maintenance_count     float64\n",
       "soiling_ratio         float64\n",
       "voltage               float64\n",
       "current               float64\n",
       "module_temperature    float64\n",
       "cloud_coverage        float64\n",
       "wind_speed             object\n",
       "pressure               object\n",
       "string_id              object\n",
       "error_code             object\n",
       "installation_type      object\n",
       "efficiency            float64\n",
       "dtype: object"
      ]
     },
     "execution_count": 7,
     "metadata": {},
     "output_type": "execute_result"
    }
   ],
   "source": [
    "df_train.dtypes"
   ]
  },
  {
   "cell_type": "code",
   "execution_count": 8,
   "id": "e74ecb40-d940-4bb6-856f-11ded0a89f28",
   "metadata": {
    "execution": {
     "iopub.execute_input": "2025-06-28T11:44:05.275670Z",
     "iopub.status.busy": "2025-06-28T11:44:05.275443Z",
     "iopub.status.idle": "2025-06-28T11:44:05.278596Z",
     "shell.execute_reply": "2025-06-28T11:44:05.278221Z",
     "shell.execute_reply.started": "2025-06-28T11:44:05.275658Z"
    }
   },
   "outputs": [
    {
     "data": {
      "text/plain": [
       "id                      int64\n",
       "temperature           float64\n",
       "irradiance            float64\n",
       "humidity               object\n",
       "panel_age             float64\n",
       "maintenance_count     float64\n",
       "soiling_ratio         float64\n",
       "voltage               float64\n",
       "current               float64\n",
       "module_temperature    float64\n",
       "cloud_coverage        float64\n",
       "wind_speed             object\n",
       "pressure               object\n",
       "string_id              object\n",
       "error_code             object\n",
       "installation_type      object\n",
       "dtype: object"
      ]
     },
     "execution_count": 8,
     "metadata": {},
     "output_type": "execute_result"
    }
   ],
   "source": [
    "df_test.dtypes"
   ]
  },
  {
   "cell_type": "markdown",
   "id": "de4d07f8-5c7b-4f43-9613-a452a633071c",
   "metadata": {},
   "source": [
    "**Observation:** The data types of columns `humidity`, `wind_speed` & `pressure` in the above output is of type **object**. Ideally, they should be of type **float**. "
   ]
  },
  {
   "cell_type": "markdown",
   "id": "d7a7dac0-4a3b-454d-9769-d3e6d469d51b",
   "metadata": {},
   "source": [
    "# 3. Data Wrangling"
   ]
  },
  {
   "cell_type": "markdown",
   "id": "eab3692c-3a9b-4109-9f95-39c305441ae0",
   "metadata": {},
   "source": [
    "## i. Fixing the data types of columns"
   ]
  },
  {
   "cell_type": "code",
   "execution_count": 9,
   "id": "78c045ff-1abf-4759-8abe-dece534cd28a",
   "metadata": {
    "execution": {
     "iopub.execute_input": "2025-06-28T11:44:05.279469Z",
     "iopub.status.busy": "2025-06-28T11:44:05.279288Z",
     "iopub.status.idle": "2025-06-28T11:44:05.286864Z",
     "shell.execute_reply": "2025-06-28T11:44:05.286435Z",
     "shell.execute_reply.started": "2025-06-28T11:44:05.279401Z"
    }
   },
   "outputs": [
    {
     "data": {
      "text/plain": [
       "humidity\n",
       "unknown              50\n",
       "error                40\n",
       "badval               37\n",
       "49.75405575152114     1\n",
       "4.749053121788882     1\n",
       "Name: count, dtype: int64"
      ]
     },
     "execution_count": 9,
     "metadata": {},
     "output_type": "execute_result"
    }
   ],
   "source": [
    "df_train[\"humidity\"].value_counts()[:5]"
   ]
  },
  {
   "cell_type": "code",
   "execution_count": 10,
   "id": "1040d797-601e-42a2-91b0-6c2c3ecb95f7",
   "metadata": {
    "execution": {
     "iopub.execute_input": "2025-06-28T11:44:05.287722Z",
     "iopub.status.busy": "2025-06-28T11:44:05.287635Z",
     "iopub.status.idle": "2025-06-28T11:44:05.294178Z",
     "shell.execute_reply": "2025-06-28T11:44:05.293900Z",
     "shell.execute_reply.started": "2025-06-28T11:44:05.287714Z"
    }
   },
   "outputs": [
    {
     "data": {
      "text/plain": [
       "wind_speed\n",
       "badval               42\n",
       "error                41\n",
       "unknown              36\n",
       "12.82491203459621     1\n",
       "4.653074989366715     1\n",
       "Name: count, dtype: int64"
      ]
     },
     "execution_count": 10,
     "metadata": {},
     "output_type": "execute_result"
    }
   ],
   "source": [
    "df_train[\"wind_speed\"].value_counts()[:5]"
   ]
  },
  {
   "cell_type": "code",
   "execution_count": 11,
   "id": "7062d826-ba53-4216-928b-25914ebfd485",
   "metadata": {
    "execution": {
     "iopub.execute_input": "2025-06-28T11:44:05.294913Z",
     "iopub.status.busy": "2025-06-28T11:44:05.294748Z",
     "iopub.status.idle": "2025-06-28T11:44:05.300707Z",
     "shell.execute_reply": "2025-06-28T11:44:05.300417Z",
     "shell.execute_reply.started": "2025-06-28T11:44:05.294900Z"
    }
   },
   "outputs": [
    {
     "data": {
      "text/plain": [
       "pressure\n",
       "unknown               46\n",
       "error                 45\n",
       "badval                44\n",
       "1008.5019530390653     1\n",
       "1015.6842178751405     1\n",
       "Name: count, dtype: int64"
      ]
     },
     "execution_count": 11,
     "metadata": {},
     "output_type": "execute_result"
    }
   ],
   "source": [
    "df_train[\"pressure\"].value_counts()[:5]"
   ]
  },
  {
   "cell_type": "markdown",
   "id": "76ac9d49-ba96-4c8d-a951-cf54316fad61",
   "metadata": {},
   "source": [
    "**Observation:**\n",
    "\n",
    "* The values such as `['unknown', 'error', 'badval']` in the above columns most probably appeared due to the fault in sensors\n",
    "* The above values will be replaced by `NaN`"
   ]
  },
  {
   "cell_type": "code",
   "execution_count": 12,
   "id": "601616c6-df44-4e92-9d99-a41e4055eaee",
   "metadata": {
    "execution": {
     "iopub.execute_input": "2025-06-28T11:44:05.301540Z",
     "iopub.status.busy": "2025-06-28T11:44:05.301431Z",
     "iopub.status.idle": "2025-06-28T11:44:05.304931Z",
     "shell.execute_reply": "2025-06-28T11:44:05.304557Z",
     "shell.execute_reply.started": "2025-06-28T11:44:05.301531Z"
    }
   },
   "outputs": [],
   "source": [
    "# Creating copies of original dataframes\n",
    "df_train_clnd = df_train.copy(deep=True)\n",
    "df_test_clnd = df_test.copy(deep=True)"
   ]
  },
  {
   "cell_type": "code",
   "execution_count": 13,
   "id": "fe4ed3be-3a20-4b78-8c34-6785bf8e79cb",
   "metadata": {
    "execution": {
     "iopub.execute_input": "2025-06-28T11:44:05.305560Z",
     "iopub.status.busy": "2025-06-28T11:44:05.305473Z",
     "iopub.status.idle": "2025-06-28T11:44:05.321054Z",
     "shell.execute_reply": "2025-06-28T11:44:05.320786Z",
     "shell.execute_reply.started": "2025-06-28T11:44:05.305550Z"
    }
   },
   "outputs": [],
   "source": [
    "# \n",
    "df_train_clnd.replace([\"unknown\", \"error\", \"badval\"], np.nan, inplace=True)\n",
    "df_test_clnd.replace([\"unknown\", \"error\", \"badval\"], np.nan, inplace=True)"
   ]
  },
  {
   "cell_type": "code",
   "execution_count": 14,
   "id": "8999ed51-c6ae-47ca-b7a8-91ea5d32c208",
   "metadata": {
    "execution": {
     "iopub.execute_input": "2025-06-28T11:44:05.321678Z",
     "iopub.status.busy": "2025-06-28T11:44:05.321546Z",
     "iopub.status.idle": "2025-06-28T11:44:05.338477Z",
     "shell.execute_reply": "2025-06-28T11:44:05.338171Z",
     "shell.execute_reply.started": "2025-06-28T11:44:05.321667Z"
    }
   },
   "outputs": [],
   "source": [
    "df_train_clnd = data_wrangle.fix_dtypes(\n",
    "  df=df_train_clnd,\n",
    "  columns=[\"humidity\", \"wind_speed\", \"pressure\"]\n",
    ")\n",
    "\n",
    "df_test_clnd = data_wrangle.fix_dtypes(\n",
    "  df=df_test_clnd,\n",
    "  columns=[\"humidity\", \"wind_speed\", \"pressure\"]\n",
    ")"
   ]
  }
 ],
 "metadata": {
  "kernelspec": {
   "display_name": "Python 3 (ipykernel)",
   "language": "python",
   "name": "python3"
  },
  "language_info": {
   "codemirror_mode": {
    "name": "ipython",
    "version": 3
   },
   "file_extension": ".py",
   "mimetype": "text/x-python",
   "name": "python",
   "nbconvert_exporter": "python",
   "pygments_lexer": "ipython3",
   "version": "3.9.6"
  }
 },
 "nbformat": 4,
 "nbformat_minor": 5
}
